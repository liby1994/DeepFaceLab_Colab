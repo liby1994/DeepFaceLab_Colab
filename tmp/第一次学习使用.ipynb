{
 "nbformat": 4,
 "nbformat_minor": 0,
 "metadata": {
  "colab": {
   "name": "第一次学习使用.ipynb",
   "version": "0.3.2",
   "provenance": [
    {
     "file_id": "https://github.com/dream80/DeepFaceLab_Colab/blob/master/DeepFaceLab_Colab_zh_cn.ipynb",
     "timestamp": 1564156081539
    }
   ],
   "collapsed_sections": [],
   "toc_visible": true
  },
  "kernelspec": {
   "name": "python3",
   "language": "python",
   "display_name": "Python 3"
  },
  "accelerator": "GPU",
  "pycharm": {
   "stem_cell": {
    "cell_type": "raw",
    "source": [],
    "metadata": {
     "collapsed": false
    }
   }
  }
 },
 "cells": [
  {
   "cell_type": "markdown",
   "metadata": {
    "id": "KWQMLYlFrTXz",
    "colab_type": "text"
   },
   "source": [
    "# 关注公众号 [ ai换脸教学 ]  获取更多换脸技巧和专业知识\n",
    "<div align=\"center\">\n",
    "<img src=\"https://deepfacelab.oss-cn-beijing.aliyuncs.com/qr/qrcode.jpg\" height=\"150\" width=\"150\" >\n",
    "\n",
    "</div>\n",
    "\n",
    "\n",
    "此脚本由**[ ai换脸教学 ]**维护，仅用于学习，请勿滥用。如有疑问，拉到最后！"
   ]
  },
  {
   "cell_type": "markdown",
   "metadata": {
    "id": "ldpC3PjRrYYh",
    "colab_type": "text"
   },
   "source": [
    "# 第一步 挂载自己的硬盘到google colab\n",
    "\n",
    "谷歌云盘地址：https://drive.google.com/drive/my-drive  \n",
    "注意：谷歌网址现在都需要“科学上网”才能访问。  "
   ]
  },
  {
   "cell_type": "code",
   "metadata": {
    "id": "D7toZxhT4J9W",
    "colab_type": "code",
    "cellView": "both",
    "colab": {}
   },
   "source": [
    "# 挂载谷歌云盘\n",
    "# 点击链接授权，复制授权码，填入框框，然后回车。\n",
    "# 每12小时会自动断线一次，第一次执行完。后面进行模型迭代使用另一个脚本（步骤变简单了）。\n",
    "from google.colab import drive\n",
    "drive.mount('/content/drive', force_remount=True)"
   ],
   "execution_count": 0,
   "outputs": []
  },
  {
   "cell_type": "code",
   "metadata": {
    "id": "rDUpbJYR54dw",
    "colab_type": "code",
    "cellView": "both",
    "outputId": "fc1bb3d8-3aba-4102-a181-c7eb0ae713c5",
    "executionInfo": {
     "status": "ok",
     "timestamp": 1564577761023,
     "user_tz": -480,
     "elapsed": 35559,
     "user": {
      "displayName": "by l",
      "photoUrl": "",
      "userId": "14731010707704764657"
     }
    },
    "colab": {
     "base_uri": "https://localhost:8080/",
     "height": 153
    }
   },
   "source": [
    "# 创建DeepFaceLab目录，并且进入目录\n",
    "%cd /content/drive/My Drive/\n",
    "!mkdir DeepFaceLab\n",
    "%cd /content/drive/My Drive/DeepFaceLab/\n",
    "\n",
    "# 下载建立自己的workspace\n",
    "!git clone https://github.com/liby1994/DFLWorkspace.git workspace"
   ],
   "execution_count": 0,
   "outputs": [
    {
     "output_type": "stream",
     "text": [
      "/content/drive/My Drive\n",
      "/content/drive/My Drive/DeepFaceLab\n",
      "Cloning into 'workspace'...\n",
      "remote: Enumerating objects: 26, done.\u001b[K\n",
      "remote: Counting objects: 100% (26/26), done.\u001b[K\n",
      "remote: Compressing objects: 100% (20/20), done.\u001b[K\n",
      "remote: Total 26 (delta 5), reused 17 (delta 2), pack-reused 0\u001b[K\n",
      "Unpacking objects: 100% (26/26), done.\n"
     ],
     "name": "stdout"
    }
   ]
  },
  {
   "cell_type": "markdown",
   "metadata": {
    "id": "9G9s5gJrty-x",
    "colab_type": "text"
   },
   "source": [
    "# 第二步. 提取脸部图片，删除输入的不良图片"
   ]
  },
  {
   "cell_type": "code",
   "metadata": {
    "id": "97VTmSmkEk2j",
    "colab_type": "code",
    "cellView": "both",
    "colab": {}
   },
   "source": [
    "# 获取DFL源代码现在是v1.6.1稳定版\n",
    "%cd /content/drive/My Drive/DeepFaceLab/\n",
    "!git clone https://github.com/dream80/DeepFaceLab_Colab.git\n",
    "  \n",
    "# 进入DeepFaceLab_Colab目录\n",
    "%cd /content/drive/My Drive/DeepFaceLab/DeepFaceLab_Colab\n",
    "\n",
     "# 安装Python依赖和cuda10\n",
    "!pip install -r requirements_colab.txt\n",
    "!pip install --upgrade scikit-image\n",
    "!sudo apt-get install cuda-10-0",
    "\n",
    "# 确保路径正确，进入DeepFaceLab_Colab\n",
    "%cd /content/drive/My Drive/DeepFaceLab/DeepFaceLab_Colab\n",
    "\n",
    "#Src 视频转图片\n",
    "!python main.py videoed extract-video --input-file ../workspace/data_src.mp4 --output-dir ../workspace/data_src/\n",
    "\n",
    "#Src 提取脸部图片\n",
    "!python main.py extract --input-dir ../workspace/data_src --output-dir ../workspace/data_src/aligned --detector s3fd --debug-dir ../workspace/data_src/aligned_debug\n",
    "\n",
    "#Src排序，可以通过谷歌云盘查看结果，删除不良图片「半张脸或者非src的脸」\n",
    "#云盘查看地址\n",
    "!python main.py sort --input-dir ../workspace/data_src/aligned --by hist"
   ],
   "execution_count": 0,
   "outputs": []
  },
  {
   "cell_type": "code",
   "metadata": {
    "id": "z35vHpqaw8t-",
    "colab_type": "code",
    "cellView": "both",
    "colab": {}
   },
   "source": [
    "# Dst视频转图片\n",
    "!python main.py videoed extract-video --input-file ../workspace/data_dst.mp4 --output-dir ../workspace/data_dst/\n",
    "\n",
    "# Dst提取脸部图片\n",
    "!python main.py extract --input-dir ../workspace/data_dst --output-dir ../workspace/data_dst/aligned --detector s3fd --debug-dir ../workspace/data_dst/aligned_debug\n",
    "\n",
    "#Dst排序，可以通过谷歌云盘查看结果，删除不良图片\n",
    "!python main.py sort --input-dir ../workspace/data_dst/aligned --by hist"
   ],
   "execution_count": 0,
   "outputs": []
  },
  {
   "cell_type": "markdown",
   "metadata": {
    "id": "QxO1kNO_uRTF",
    "colab_type": "text"
   },
   "source": [
    "# 第三步. 训练模型\n",
    "\n",
    "\n",
    "*  默认使用H128进行训练"
   ]
  },
  {
   "cell_type": "code",
   "metadata": {
    "id": "7n3ZpkQd-dZj",
    "colab_type": "code",
    "colab": {}
   },
   "source": [
    "\n",
    "# 进入DeepFaceLab_Colab\n",
    "%cd /content/drive/My Drive/DeepFaceLab/DeepFaceLab_Colab\n",
    "\n",
    "# 使用H128模型进行训练（想尝试其他的是可以参考专业版）\n",
    "!python main.py train --training-data-src-dir ../workspace/data_src/aligned --training-data-dst-dir ../workspace/data_dst/aligned --model-dir ../workspace/model --model H128 --no-preview"
   ],
   "execution_count": 0,
   "outputs": []
  },
  {
   "cell_type": "markdown",
   "metadata": {
    "id": "oVfZpBR00gBG",
    "colab_type": "text"
   },
   "source": [
    "**模型预览方法请参考：**\n",
    "\n",
    "简单描述：左侧->文件->/driver/..../model/ *preview*.jpg->双击  \n",
    "  \n",
    "这种方法比在脚本中预览和在网盘预览都要方便，并且无需启动预览配置！"
   ]
  },
  {
   "cell_type": "markdown",
   "metadata": {
    "id": "m2Ba96cVuS0K",
    "colab_type": "text"
   },
   "source": [
    "# 第四步. 转换输出\n",
    "\n",
    "默认使用H128进行转换，如果需要其他模型，请修改命令中的参数。"
   ]
  },
  {
   "cell_type": "code",
   "metadata": {
    "id": "__aUSMa80-_M",
    "colab_type": "code",
    "cellView": "both",
    "colab": {}
   },
   "source": [
    "#用src中的脸替换dst的脸 \n",
    "!python main.py convert --input-dir ../workspace/data_dst --output-dir ../workspace/data_dst/merged --aligned-dir ../workspace/data_dst/aligned --model-dir ../workspace/model --model H128"
   ],
   "execution_count": 0,
   "outputs": []
  },
  {
   "cell_type": "code",
   "metadata": {
    "id": "symb8EIc1Csf",
    "colab_type": "code",
    "cellView": "both",
    "colab": {}
   },
   "source": [
    "#把替换好的图片转换成视频\n",
    "\n",
    "!python main.py videoed video-from-sequence --input-dir ../workspace/data_dst/merged --output-file ../workspace/result.mp4 --reference-file ../workspace/data_dst.mp4"
   ],
   "execution_count": 0,
   "outputs": []
  },
  {
   "cell_type": "markdown",
   "metadata": {
    "id": "siaPGJ1QVacj",
    "colab_type": "text"
   },
   "source": [
    "# 工具\n"
   ]
  },
  {
   "cell_type": "markdown",
   "metadata": {
    "id": "WGLTllAHYAPJ",
    "colab_type": "text"
   },
   "source": [
    "使用脚本练模型的时候常常会需要上传，解压，压缩，下载等，下面为大家提供一个解压和压缩的脚本。如果需要对其他文件操作，改一下路径，改一下文件名就可以了。"
   ]
  },
  {
   "cell_type": "code",
   "metadata": {
    "id": "e2Y0j4dBVaG_",
    "colab_type": "code",
    "colab": {}
   },
   "source": [
    "# 解压workspace.zip，假设这个文件在DeepFaceLab目录下。\n",
    "\n",
    "%cd /content/drive/My Drive/DeepFaceLab/\n",
    "\n",
    "#常规解压，如果之前有文件会询问是否覆盖，输入A表示覆盖\n",
    "!unzip workspace.zip\n",
    "\n",
    "#覆盖解压，直接覆盖，不需要询问。\n",
    "#unzip -o workspace.zip \n"
   ],
   "execution_count": 0,
   "outputs": []
  },
  {
   "cell_type": "code",
   "metadata": {
    "id": "n4jduhJMWXia",
    "colab_type": "code",
    "colab": {}
   },
   "source": [
    "# 压缩worksapce ，把压缩包保存在DeepFaceLab目录下\n",
    "%cd /content/drive/My Drive/DeepFaceLab/\n",
    "!zip -r workspace.zip  workspace"
   ],
   "execution_count": 0,
   "outputs": []
  },
  {
   "cell_type": "markdown",
   "metadata": {
    "id": "5H85SsIW1PI3",
    "colab_type": "text"
   },
   "source": [
    "# 其他\n",
    "\n",
    " 谷歌云地址：https://drive.google.com/drive/my-drive\n",
    " \n",
    " 公众号：ai换脸教学"
   ]
  }
 ]
}
